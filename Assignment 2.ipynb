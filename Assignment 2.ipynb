{
 "cells": [
  {
   "cell_type": "code",
   "execution_count": 2,
   "id": "90ee8c24",
   "metadata": {},
   "outputs": [
    {
     "name": "stdout",
     "output_type": "stream",
     "text": [
      "Before swapping: \n",
      "Value of x :  5  and y :  7\n",
      "After swapping: \n",
      "Value of x :  7  and y :  5\n"
     ]
    }
   ],
   "source": [
    "x = 5\n",
    "y = 7\n",
    "print (\"Before swapping: \")\n",
    "print(\"Value of x : \", x, \" and y : \", y)\n",
    "x, y = y, x\n",
    "print (\"After swapping: \")\n",
    "print(\"Value of x : \", x, \" and y : \", y)\n"
   ]
  },
  {
   "cell_type": "code",
   "execution_count": 3,
   "id": "c7e6de11",
   "metadata": {},
   "outputs": [
    {
     "name": "stdout",
     "output_type": "stream",
     "text": [
      "Enter the length of the rectangle: 5\n",
      "Enter the width of the rectangle: 5\n",
      "The area of the rectangle is: 25.0\n"
     ]
    }
   ],
   "source": [
    "length = float(input(\"Enter the length of the rectangle: \"))\n",
    "width = float(input(\"Enter the width of the rectangle: \"))\n",
    "area = length * width\n",
    "print(\"The area of the rectangle is:\", area)\n"
   ]
  },
  {
   "cell_type": "code",
   "execution_count": 4,
   "id": "96e46e00",
   "metadata": {},
   "outputs": [
    {
     "name": "stdout",
     "output_type": "stream",
     "text": [
      "Enter temperature in Fahrenheit: 5\n",
      "Temperature in Celsius: -15.0\n"
     ]
    }
   ],
   "source": [
    "fahrenheit = float(input(\"Enter temperature in Fahrenheit: \"))\n",
    "celsius = (fahrenheit - 32) * 5/9\n",
    "print(\"Temperature in Celsius:\", celsius)\n"
   ]
  },
  {
   "cell_type": "code",
   "execution_count": 5,
   "id": "a5bfbc8a",
   "metadata": {},
   "outputs": [
    {
     "name": "stdout",
     "output_type": "stream",
     "text": [
      "Enter the radius of the sphere: 10\n",
      "The volume of the sphere is: 4188.786666666666\n"
     ]
    }
   ],
   "source": [
    "radius = float(input(\"Enter the radius of the sphere: \"))\n",
    "volume = (4/3) * 3.14159 * radius**3\n",
    "print(\"The volume of the sphere is:\", volume)\n"
   ]
  },
  {
   "cell_type": "code",
   "execution_count": 6,
   "id": "500a4b6e",
   "metadata": {},
   "outputs": [
    {
     "name": "stdout",
     "output_type": "stream",
     "text": [
      "Enter first number: 5\n",
      "Enter second number: 10\n",
      "Enter third number: 15\n",
      "The average of the numbers is: 10.0\n"
     ]
    }
   ],
   "source": [
    "num1 = float(input(\"Enter first number: \"))\n",
    "num2 = float(input(\"Enter second number: \"))\n",
    "num3 = float(input(\"Enter third number: \"))\n",
    "average = (num1 + num2 + num3) / 3\n",
    "print(\"The average of the numbers is:\", average)\n"
   ]
  },
  {
   "cell_type": "code",
   "execution_count": 7,
   "id": "58fe4a67",
   "metadata": {},
   "outputs": [
    {
     "name": "stdout",
     "output_type": "stream",
     "text": [
      "Enter a number: 10\n",
      "10 is even\n"
     ]
    }
   ],
   "source": [
    "number = int(input(\"Enter a number: \"))\n",
    "if number % 2 == 0:\n",
    "  print(number, \"is even\")\n",
    "else:\n",
    "  print(number, \"is odd\")\n"
   ]
  },
  {
   "cell_type": "code",
   "execution_count": 8,
   "id": "1d8e3994",
   "metadata": {},
   "outputs": [
    {
     "name": "stdout",
     "output_type": "stream",
     "text": [
      "Enter first number: 5\n",
      "Enter second number: 10\n",
      "Enter third number: 15\n",
      "The maximum number is: 15.0\n"
     ]
    }
   ],
   "source": [
    "num1 = float(input(\"Enter first number: \"))\n",
    "num2 = float(input(\"Enter second number: \"))\n",
    "num3 = float(input(\"Enter third number: \"))\n",
    "max_number = max(num1, num2, num3)\n",
    "print(\"The maximum number is:\", max_number)\n"
   ]
  },
  {
   "cell_type": "code",
   "execution_count": 9,
   "id": "5f099c86",
   "metadata": {},
   "outputs": [
    {
     "name": "stdout",
     "output_type": "stream",
     "text": [
      "Enter a year: 2024\n",
      "2024 is a leap year\n"
     ]
    }
   ],
   "source": [
    "year = int(input(\"Enter a year: \"))\n",
    "if (year % 4 == 0 and year % 100 != 0) or year % 400 == 0:\n",
    "  print(year, \"is a leap year\")\n",
    "else:\n",
    "  print(year, \"is not a leap year\")\n"
   ]
  },
  {
   "cell_type": "code",
   "execution_count": 10,
   "id": "0811caf1",
   "metadata": {},
   "outputs": [
    {
     "name": "stdout",
     "output_type": "stream",
     "text": [
      "Enter a number: 10\n",
      "10.0 is positive\n"
     ]
    }
   ],
   "source": [
    "number = float(input(\"Enter a number: \"))\n",
    "if number > 0:\n",
    "  print(number, \"is positive\")\n",
    "elif number < 0:\n",
    "  print(number, \"is negative\")\n",
    "else:\n",
    "  print(number, \"is zero\")\n"
   ]
  },
  {
   "cell_type": "code",
   "execution_count": 11,
   "id": "a912a70c",
   "metadata": {},
   "outputs": [
    {
     "name": "stdout",
     "output_type": "stream",
     "text": [
      "Enter your percentage: 65\n",
      "Your grade is: B\n"
     ]
    }
   ],
   "source": [
    "percentage = float(input(\"Enter your percentage: \"))\n",
    "if percentage >= 75:\n",
    "  grade = \"A\"\n",
    "elif percentage >= 60:\n",
    "  grade = \"B\"\n",
    "elif percentage >= 50:\n",
    "  grade = \"C\"\n",
    "elif percentage >= 40:\n",
    "  grade = \"D\"\n",
    "else:\n",
    "  grade = \"F\"\n",
    "print(\"Your grade is:\", grade)\n"
   ]
  },
  {
   "cell_type": "code",
   "execution_count": 12,
   "id": "01badc1c",
   "metadata": {},
   "outputs": [
    {
     "name": "stdout",
     "output_type": "stream",
     "text": [
      "Enter the value of n: 10\n",
      "1\n",
      "2\n",
      "3\n",
      "4\n",
      "5\n",
      "6\n",
      "7\n",
      "8\n",
      "9\n",
      "10\n"
     ]
    }
   ],
   "source": [
    "n = int(input(\"Enter the value of n: \"))\n",
    "for i in range(1, n + 1):\n",
    "  print(i)\n"
   ]
  },
  {
   "cell_type": "code",
   "execution_count": 13,
   "id": "52a25e17",
   "metadata": {},
   "outputs": [
    {
     "name": "stdout",
     "output_type": "stream",
     "text": [
      "Enter a non-negative number: 5\n",
      "The factorial of 5 is 120\n"
     ]
    }
   ],
   "source": [
    "number = int(input(\"Enter a non-negative number: \"))\n",
    "factorial = 1\n",
    "for i in range(1, number + 1):\n",
    "  factorial *= i\n",
    "print(\"The factorial of\", number, \"is\", factorial)\n"
   ]
  },
  {
   "cell_type": "code",
   "execution_count": 14,
   "id": "f3ed43c8",
   "metadata": {},
   "outputs": [
    {
     "name": "stdout",
     "output_type": "stream",
     "text": [
      "Enter the length of the sequence: 4\n",
      "0\n",
      "1\n",
      "1\n",
      "2\n"
     ]
    }
   ],
   "source": [
    "n = int(input(\"Enter the length of the sequence: \"))\n",
    "a, b = 0, 1\n",
    "print(a)\n",
    "for i in range(1, n):\n",
    "  print(b)\n",
    "  a, b = b, a + b\n"
   ]
  },
  {
   "cell_type": "code",
   "execution_count": 16,
   "id": "2a256aa9",
   "metadata": {},
   "outputs": [
    {
     "name": "stdout",
     "output_type": "stream",
     "text": [
      "Enter any number: 13\n",
      "13 is a prime number\n"
     ]
    }
   ],
   "source": [
    "number = int(input(\"Enter any number: \"))\n",
    "if number > 1:\n",
    "    for i in range(2, number):\n",
    "        if (number % i) == 0:\n",
    "            print(number, \"is not a prime number\")\n",
    "            break\n",
    "    else:\n",
    "        print(number, \"is a prime number\")\n",
    "\n",
    "else:\n",
    "    print(number, \"is not a prime number\")\n"
   ]
  },
  {
   "cell_type": "code",
   "execution_count": 17,
   "id": "21d58cfa",
   "metadata": {},
   "outputs": [
    {
     "name": "stdout",
     "output_type": "stream",
     "text": [
      "Enter a number: 7\n",
      "7 x 1 = 7\n",
      "7 x 2 = 14\n",
      "7 x 3 = 21\n",
      "7 x 4 = 28\n",
      "7 x 5 = 35\n",
      "7 x 6 = 42\n",
      "7 x 7 = 49\n",
      "7 x 8 = 56\n",
      "7 x 9 = 63\n",
      "7 x 10 = 70\n"
     ]
    }
   ],
   "source": [
    "number = int(input(\"Enter a number: \"))\n",
    "for i in range(1, 11):\n",
    "  print(number, \"x\", i, \"=\", number * i)\n"
   ]
  },
  {
   "cell_type": "code",
   "execution_count": 18,
   "id": "8635ed24",
   "metadata": {},
   "outputs": [
    {
     "name": "stdout",
     "output_type": "stream",
     "text": [
      "Enter the value of n: 5\n",
      "The sum of all even numbers between 1 and 5 is 6\n"
     ]
    }
   ],
   "source": [
    "n = int(input(\"Enter the value of n: \"))\n",
    "sum_even = 0\n",
    "i = 2\n",
    "while i <= n:\n",
    "  sum_even += i\n",
    "  i += 2\n",
    "print(\"The sum of all even numbers between 1 and\", n, \"is\", sum_even)\n"
   ]
  },
  {
   "cell_type": "code",
   "execution_count": 19,
   "id": "0738c035",
   "metadata": {},
   "outputs": [
    {
     "name": "stdout",
     "output_type": "stream",
     "text": [
      "Enter a number: 6\n",
      "The reversed number is: 6\n"
     ]
    }
   ],
   "source": [
    "number = int(input(\"Enter a number: \"))\n",
    "reversed_number = 0\n",
    "while number > 0:\n",
    "  digit = number % 10\n",
    "  reversed_number = reversed_number * 10 + digit\n",
    "  number //= 10\n",
    "print(\"The reversed number is:\", reversed_number)\n"
   ]
  },
  {
   "cell_type": "code",
   "execution_count": 20,
   "id": "2923ab58",
   "metadata": {},
   "outputs": [
    {
     "name": "stdout",
     "output_type": "stream",
     "text": [
      "mango is a palindrome: False\n",
      "strawberry is a palindrome: False\n",
      "apple is a palindrome: False\n"
     ]
    }
   ],
   "source": [
    "def is_palindrome(text):\n",
    "  \"\"\"\n",
    "  Checks if a given string is a palindrome using a while loop.\n",
    "  Args:\n",
    "      text: The string to be checked.\n",
    "  Returns:\n",
    "      True if the string is a palindrome, False otherwise.\n",
    "  \"\"\"\n",
    "  i, j = 0, len(text) - 1\n",
    "  while i < j:\n",
    "    if text[i].lower() != text[j].lower():\n",
    "      return False\n",
    "    i += 1\n",
    "    j -= 1\n",
    "  return True\n",
    "text1 = \"mango\"\n",
    "text2 = \"strawberry\"\n",
    "text3 = \"apple\"\n",
    "print(f\"{text1} is a palindrome: {is_palindrome(text1)}\")\n",
    "print(f\"{text2} is a palindrome: {is_palindrome(text2)}\")\n",
    "print(f\"{text3} is a palindrome: {is_palindrome(text3)}\")\n",
    "\n"
   ]
  },
  {
   "cell_type": "code",
   "execution_count": null,
   "id": "44407627",
   "metadata": {},
   "outputs": [
    {
     "name": "stdout",
     "output_type": "stream",
     "text": [
      "Guess a number between 1 and 100: 60\n",
      "Too high! Try again.\n",
      "Guess a number between 1 and 100: 10\n",
      "Too low! Try again.\n",
      "Guess a number between 1 and 100: 40\n",
      "Too low! Try again.\n",
      "Guess a number between 1 and 100: 25\n",
      "Too low! Try again.\n",
      "Guess a number between 1 and 100: 50\n",
      "Too high! Try again.\n"
     ]
    }
   ],
   "source": [
    "import random\n",
    "\n",
    "number = random.randint(1, 100)\n",
    "guesses = 0\n",
    "while True:\n",
    "  guess = int(input(\"Guess a number between 1 and 100: \"))\n",
    "  guesses += 1\n",
    "  if guess == number:\n",
    "    print(\"Congratulations! You guessed the number in\", guesses, \"guesses.\")\n",
    "    break\n",
    "  elif guess < number:\n",
    "    print(\"Too low! Try again.\")\n",
    "  else:\n",
    "    print(\"Too high! Try again.\")\n"
   ]
  },
  {
   "cell_type": "code",
   "execution_count": 3,
   "id": "7b74b03e",
   "metadata": {},
   "outputs": [
    {
     "name": "stdout",
     "output_type": "stream",
     "text": [
      "Enter the first number: 5\n",
      "Enter the second number: 10\n",
      "The GCD of 5 and 10 is 5\n"
     ]
    }
   ],
   "source": [
    "def gcd(c, d):\n",
    "  while d != 0:\n",
    "    c, d = d, c % d\n",
    "  return c\n",
    "num1 = int(input(\"Enter the first number: \"))\n",
    "num2 = int(input(\"Enter the second number: \"))\n",
    "print(\"The GCD of\", num1, \"and\", num2, \"is\", gcd(num1, num2))\n"
   ]
  },
  {
   "cell_type": "code",
   "execution_count": null,
   "id": "06db82a4",
   "metadata": {},
   "outputs": [],
   "source": []
  }
 ],
 "metadata": {
  "kernelspec": {
   "display_name": "Python 3 (ipykernel)",
   "language": "python",
   "name": "python3"
  },
  "language_info": {
   "codemirror_mode": {
    "name": "ipython",
    "version": 3
   },
   "file_extension": ".py",
   "mimetype": "text/x-python",
   "name": "python",
   "nbconvert_exporter": "python",
   "pygments_lexer": "ipython3",
   "version": "3.11.5"
  }
 },
 "nbformat": 4,
 "nbformat_minor": 5
}
